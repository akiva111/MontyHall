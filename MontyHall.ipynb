{
 "cells": [
  {
   "cell_type": "markdown",
   "metadata": {},
   "source": [
    "# #The Monty Hall Problem"
   ]
  },
  {
   "cell_type": "code",
   "execution_count": 1,
   "metadata": {
    "collapsed": true
   },
   "outputs": [],
   "source": [
    "import numpy as np\n",
    "import pandas as pd\n",
    "import matplotlib.pyplot as plt"
   ]
  },
  {
   "cell_type": "raw",
   "metadata": {},
   "source": [
    "Prizedoor: This function will simulate the location of the prize in many games "
   ]
  },
  {
   "cell_type": "code",
   "execution_count": 2,
   "metadata": {
    "collapsed": true
   },
   "outputs": [],
   "source": [
    "def simulate_prizedoor(nsim):\n",
    "    prizeloc =[]\n",
    "    for idx in np.arange(nsim):\n",
    "        prizeloc.append(np.random.randint(0,3))\n",
    "    return np.asarray(prizeloc)"
   ]
  },
  {
   "cell_type": "code",
   "execution_count": 3,
   "metadata": {
    "collapsed": false
   },
   "outputs": [
    {
     "name": "stdout",
     "output_type": "stream",
     "text": [
      "[0 2 2 0]\n"
     ]
    }
   ],
   "source": [
    "print simulate_prizedoor(4)"
   ]
  },
  {
   "cell_type": "markdown",
   "metadata": {},
   "source": [
    "Now simulate the guesses by the contestant"
   ]
  },
  {
   "cell_type": "code",
   "execution_count": 4,
   "metadata": {
    "collapsed": true
   },
   "outputs": [],
   "source": [
    "def simulate_guess(nsim):\n",
    "    guess = []\n",
    "    for idx in np.arange(nsim):\n",
    "        guess.append(np.random.randint(0,3))\n",
    "    return np.asarray(guess)"
   ]
  },
  {
   "cell_type": "code",
   "execution_count": 5,
   "metadata": {
    "collapsed": false
   },
   "outputs": [
    {
     "name": "stdout",
     "output_type": "stream",
     "text": [
      "[2 1 1 1]\n"
     ]
    }
   ],
   "source": [
    "print simulate_guess(4)"
   ]
  },
  {
   "cell_type": "markdown",
   "metadata": {},
   "source": [
    "Simulate the opening of a door that reveals the location of one of the goats. \n",
    "This location must be different from the prize door and from the contestant's guess. \n",
    "- if prizeloc == guess, return random between the two remaining doors\n",
    "- if prizeloc != guess, return the remaining door"
   ]
  },
  {
   "cell_type": "code",
   "execution_count": 6,
   "metadata": {
    "collapsed": false
   },
   "outputs": [],
   "source": [
    "def goat_door(prizeloc, guess):\n",
    "    goat = []\n",
    "    for idx in np.arange(len(prizeloc)):\n",
    "        if prizeloc[idx] == guess[idx]:\n",
    "            x = sorted(np.setxor1d([0,1,2],guess[idx]))\n",
    "            y = np.random.choice(x)\n",
    "            goat.append(y)\n",
    "        elif prizeloc[idx] != guess[idx]:\n",
    "            y = (prizeloc[idx],guess[idx])\n",
    "            x = int(np.setxor1d([0,1,2],y))\n",
    "            goat.append(x)\n",
    "    return goat"
   ]
  },
  {
   "cell_type": "markdown",
   "metadata": {},
   "source": [
    "Write a function, switch_guess, that represents the strategy of always switching a guess after the goat door is opened."
   ]
  },
  {
   "cell_type": "code",
   "execution_count": 12,
   "metadata": {
    "collapsed": false
   },
   "outputs": [],
   "source": [
    "def switch_guess(guessdoor, goatdoor):\n",
    "    switched = []\n",
    "    for idx in np.arange(len(guessdoor)):\n",
    "        y = (guessdoor[idx], goatdoor[idx])\n",
    "        x = int(np.setxor1d([0,1,2],y))\n",
    "        switched.append(x)\n",
    "    return switched"
   ]
  },
  {
   "cell_type": "code",
   "execution_count": 14,
   "metadata": {
    "collapsed": false
   },
   "outputs": [
    {
     "name": "stdout",
     "output_type": "stream",
     "text": [
      "[0 0 1 0]\n",
      "[1 2 2 2]\n",
      "[2, 1, 0, 1]\n",
      "[0, 0, 1, 0]\n"
     ]
    }
   ],
   "source": [
    "prizeloc = simulate_prizedoor(4)\n",
    "guess = simulate_guess(4)\n",
    "goat = goat_door(prizeloc, guess)\n",
    "print prizeloc\n",
    "print guess\n",
    "print goat\n",
    "print switch_guess(guess, goat)"
   ]
  },
  {
   "cell_type": "markdown",
   "metadata": {},
   "source": [
    "Last function: write a win_percentage function that takes an array of guesses and prizedoors, and returns the percent of correct guesses"
   ]
  },
  {
   "cell_type": "code",
   "execution_count": 38,
   "metadata": {
    "collapsed": false
   },
   "outputs": [],
   "source": [
    "def win_percentage(guess, prizeloc):\n",
    "    count = 0\n",
    "    for idx in np.arange(len(guess)):\n",
    "        if guess[idx]==prizeloc[idx]:\n",
    "            count += 1\n",
    "    return float(count)/len(guess)"
   ]
  },
  {
   "cell_type": "markdown",
   "metadata": {},
   "source": [
    "Now, put it together. Simulate 10000 games where contestant keeps his original guess, and 10000 games where the contestant switches his door after a goat door is revealed. Compute the percentage of time the contestant wins under either strategy. Is one strategy better than the other?"
   ]
  },
  {
   "cell_type": "code",
   "execution_count": 44,
   "metadata": {
    "collapsed": false
   },
   "outputs": [
    {
     "name": "stdout",
     "output_type": "stream",
     "text": [
      "Win 0.339600 of the times without switching\n",
      "Win 0.660400 of the time with switching\n"
     ]
    }
   ],
   "source": [
    "prizeloc = simulate_prizedoor(10000)\n",
    "guess = simulate_guess(10000)\n",
    "goat = goat_door(prizeloc, guess)\n",
    "x = win_percentage(guess, prizeloc)\n",
    "switched_guess = switch_guess(guess, goat)\n",
    "y = win_percentage(switched_guess, prizeloc)\n",
    "print 'Win %f of the times without switching'%(x)\n",
    "print 'Win %f of the time with switching'%(y)"
   ]
  },
  {
   "cell_type": "raw",
   "metadata": {},
   "source": []
  }
 ],
 "metadata": {
  "kernelspec": {
   "display_name": "Python 2",
   "language": "python",
   "name": "python2"
  },
  "language_info": {
   "codemirror_mode": {
    "name": "ipython",
    "version": 2
   },
   "file_extension": ".py",
   "mimetype": "text/x-python",
   "name": "python",
   "nbconvert_exporter": "python",
   "pygments_lexer": "ipython2",
   "version": "2.7.11"
  }
 },
 "nbformat": 4,
 "nbformat_minor": 0
}
